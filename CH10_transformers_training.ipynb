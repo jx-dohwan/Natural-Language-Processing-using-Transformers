{
  "nbformat": 4,
  "nbformat_minor": 0,
  "metadata": {
    "colab": {
      "provenance": [],
      "authorship_tag": "ABX9TyMZlQG3WH73gvH87CzXLjgH",
      "include_colab_link": true
    },
    "kernelspec": {
      "name": "python3",
      "display_name": "Python 3"
    },
    "language_info": {
      "name": "python"
    }
  },
  "cells": [
    {
      "cell_type": "markdown",
      "metadata": {
        "id": "view-in-github",
        "colab_type": "text"
      },
      "source": [
        "<a href=\"https://colab.research.google.com/github/jx-dohwan/Natural-Language-Processing-using-Transformers/blob/main/CH10_transformers_training.ipynb\" target=\"_parent\"><img src=\"https://colab.research.google.com/assets/colab-badge.svg\" alt=\"Open In Colab\"/></a>"
      ]
    },
    {
      "cell_type": "markdown",
      "source": [
        "대용량 학습이라 개발 환경이 안된다. 이번장은 눈으로 읽으며 흐름을 파악해 필요할 때 꺼내쓸 수 있을 정도로 숙지하고자 한다. 그리고 대규모 데이터 학습을 해야할 때 혹은 그러한 컴퓨팅 사양이 된다면 그때 이 장의 학습을 진행해도 늦지 않을 것 같다.\n",
        "\n",
        "지금 나의 컴퓨터 사양으로는 pretrain보다는 fine-tuning하는 것이 적합하기 때문이다. pretrain 해야할 때 이 번장을 다시 펼쳐서 공부하며 적용하자는 것이다. "
      ],
      "metadata": {
        "id": "wPLTzdFLo0mP"
      }
    },
    {
      "cell_type": "code",
      "execution_count": null,
      "metadata": {
        "id": "t11rtzzKary_"
      },
      "outputs": [],
      "source": []
    }
  ]
}